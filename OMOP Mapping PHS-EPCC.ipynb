{
 "cells": [
  {
   "cell_type": "code",
   "execution_count": 20,
   "id": "aef1fdc7",
   "metadata": {},
   "outputs": [
    {
     "name": "stdout",
     "output_type": "stream",
     "text": [
      "The autoreload extension is already loaded. To reload it, use:\n",
      "  %reload_ext autoreload\n"
     ]
    }
   ],
   "source": [
    "%load_ext autoreload\n",
    "%autoreload 2"
   ]
  },
  {
   "cell_type": "markdown",
   "id": "aee2b60a",
   "metadata": {},
   "source": [
    "# Mapping PHS-EPCC dataset\n",
    "\n",
    "These are notes on how to use the pycarrot mapper to OMOP map a dataset\n",
    "\n",
    "It requires the following:\n",
    "- `pycarrot` folder containing the source code in the running directory\n",
    "- an [OMOP database](https://athena.ohdsi.org/vocabulary/list) running locally with some from of SQL (MySQL, PostGres,..)\n",
    "\n",
    "## Setup\n",
    "\n",
    "### OMOP database\n",
    "\n",
    "Create an engine from sqlalchemy for the OMOP database"
   ]
  },
  {
   "cell_type": "code",
   "execution_count": 21,
   "id": "8144e1ac",
   "metadata": {},
   "outputs": [],
   "source": [
    "import json\n",
    "from sqlalchemy import create_engine\n",
    "username=\"admin\"\n",
    "password=\"test!\"\n",
    "hostname=\"localhost\"\n",
    "port=\"5432\"\n",
    "database_name=\"omop\"\n",
    "\n",
    "connection_string = f\"postgresql+psycopg2://{username}:{password}@{hostname}:{port}/{database_name}\"\n",
    "engine = create_engine(connection_string)\n"
   ]
  },
  {
   "cell_type": "markdown",
   "id": "ae68685c",
   "metadata": {},
   "source": [
    "### PyCarrot Concept Finder\n",
    "\n",
    "Load the concept finder"
   ]
  },
  {
   "cell_type": "code",
   "execution_count": 22,
   "id": "e66c8ce4",
   "metadata": {},
   "outputs": [],
   "source": [
    "from pycarrot import ConceptFinder\n",
    "\n",
    "cfinder = ConceptFinder(engine)"
   ]
  },
  {
   "cell_type": "markdown",
   "id": "3f68bef4",
   "metadata": {},
   "source": [
    "Test retrieving information for a concept code for MALE"
   ]
  },
  {
   "cell_type": "code",
   "execution_count": 23,
   "id": "55312f33",
   "metadata": {},
   "outputs": [
    {
     "data": {
      "text/plain": [
       "[{'concept_id': 8507,\n",
       "  'concept_name': 'MALE',\n",
       "  'domain_id': 'Gender',\n",
       "  'vocabulary_id': 'Gender',\n",
       "  'concept_class_id': 'Gender',\n",
       "  'standard_concept': 'S',\n",
       "  'concept_code': 'M',\n",
       "  'valid_start_date': 19700101,\n",
       "  'valid_end_date': 20991231,\n",
       "  'invalid_reason': None}]"
      ]
     },
     "execution_count": 23,
     "metadata": {},
     "output_type": "execute_result"
    }
   ],
   "source": [
    "cfinder.find_concept(8507)"
   ]
  },
  {
   "cell_type": "markdown",
   "id": "72e22e74",
   "metadata": {},
   "source": [
    "Test looking up based on ICD10CM codes"
   ]
  },
  {
   "cell_type": "code",
   "execution_count": 24,
   "id": "de9fec34",
   "metadata": {},
   "outputs": [
    {
     "data": {
      "text/plain": [
       "{'A01.1': [{'original_code': 'A01.1',\n",
       "   'concept_id': 195460,\n",
       "   'concept_name': 'Paratyphoid A fever',\n",
       "   'domain_id': 'Condition',\n",
       "   'vocabulary_id': 'SNOMED',\n",
       "   'concept_class_id': 'Disorder',\n",
       "   'standard_concept': 'S',\n",
       "   'concept_code': '76623002',\n",
       "   'valid_start_date': 20020131,\n",
       "   'valid_end_date': 20991231,\n",
       "   'invalid_reason': None}]}"
      ]
     },
     "execution_count": 24,
     "metadata": {},
     "output_type": "execute_result"
    }
   ],
   "source": [
    "cfinder.find('A01.1')"
   ]
  },
  {
   "cell_type": "code",
   "execution_count": 25,
   "id": "b974347d",
   "metadata": {},
   "outputs": [
    {
     "name": "stdout",
     "output_type": "stream",
     "text": [
      "{\n",
      "      \"C72.5\": [\n",
      "            {\n",
      "                  \"original_code\": \"C72.5\",\n",
      "                  \"concept_id\": 433975,\n",
      "                  \"concept_name\": \"Primary malignant neoplasm of cranial nerve\",\n",
      "                  \"domain_id\": \"Condition\",\n",
      "                  \"vocabulary_id\": \"SNOMED\",\n",
      "                  \"concept_class_id\": \"Disorder\",\n",
      "                  \"standard_concept\": \"S\",\n",
      "                  \"concept_code\": \"93767009\",\n",
      "                  \"valid_start_date\": 20020131,\n",
      "                  \"valid_end_date\": 20991231,\n",
      "                  \"invalid_reason\": null\n",
      "            }\n",
      "      ],\n",
      "      \"F28\": [\n",
      "            {\n",
      "                  \"original_code\": \"F28\",\n",
      "                  \"concept_id\": 436073,\n",
      "                  \"concept_name\": \"Psychotic disorder\",\n",
      "                  \"domain_id\": \"Condition\",\n",
      "                  \"vocabulary_id\": \"SNOMED\",\n",
      "                  \"concept_class_id\": \"Disorder\",\n",
      "                  \"standard_concept\": \"S\",\n",
      "                  \"concept_code\": \"69322001\",\n",
      "                  \"valid_start_date\": 20020131,\n",
      "                  \"valid_end_date\": 20991231,\n",
      "                  \"invalid_reason\": null\n",
      "            }\n",
      "      ]\n",
      "}\n"
     ]
    }
   ],
   "source": [
    "print (json.dumps(cfinder.find(['C72.5','F28']),indent=6))"
   ]
  },
  {
   "cell_type": "markdown",
   "id": "512c4ac3",
   "metadata": {},
   "source": [
    "### PyCarrot Mapper\n",
    "\n",
    "Create an instance of the concept mapper that uses the finder "
   ]
  },
  {
   "cell_type": "code",
   "execution_count": 26,
   "id": "b13799dd",
   "metadata": {},
   "outputs": [
    {
     "data": {
      "text/plain": [
       "<pycarrot.concept_mapper.ConceptMapper at 0x106399340>"
      ]
     },
     "execution_count": 26,
     "metadata": {},
     "output_type": "execute_result"
    }
   ],
   "source": [
    "import json\n",
    "import pandas as pd\n",
    "from pycarrot import ConceptMapper\n",
    "cmapper = ConceptMapper(cfinder) \n",
    "cmapper"
   ]
  },
  {
   "cell_type": "markdown",
   "id": "ff8082bb",
   "metadata": {},
   "source": [
    "### WhiteRabbit Scan Reports\n",
    "\n",
    "Load a scan report"
   ]
  },
  {
   "cell_type": "code",
   "execution_count": 30,
   "id": "069b1d43",
   "metadata": {},
   "outputs": [],
   "source": [
    "df_smr01 = pd.read_excel(\"./ScanReports/smr01_ScanReport_all.xlsx\", sheet_name=None)"
   ]
  },
  {
   "cell_type": "code",
   "execution_count": 31,
   "id": "b54f632b",
   "metadata": {},
   "outputs": [
    {
     "data": {
      "text/plain": [
       "dict_keys(['Field Overview', 'Table Overview', 'smr01_conditions.csv', 'demographics.csv', 'smr01_operations.csv', 'smr01_discharges.csv', 'smr01_admissions.csv', '_'])"
      ]
     },
     "execution_count": 31,
     "metadata": {},
     "output_type": "execute_result"
    }
   ],
   "source": [
    "df_smr01.keys()"
   ]
  },
  {
   "cell_type": "markdown",
   "id": "91ccec1d",
   "metadata": {},
   "source": [
    "## Map SMR01\n",
    "\n",
    "Set the scan report on the cmapper instance"
   ]
  },
  {
   "cell_type": "code",
   "execution_count": 34,
   "id": "e06d95e5",
   "metadata": {},
   "outputs": [],
   "source": [
    "cmapper.set_scan_report(df_smr01)"
   ]
  },
  {
   "cell_type": "markdown",
   "id": "cd785060",
   "metadata": {},
   "source": [
    "### Manually mapping demographics \n",
    "\n",
    "Manually map the demographics table with concept codes for male and female (this has been done by hand)"
   ]
  },
  {
   "cell_type": "code",
   "execution_count": 35,
   "id": "b08370ac",
   "metadata": {},
   "outputs": [
    {
     "name": "stdout",
     "output_type": "stream",
     "text": [
      "{\n",
      "      \"person\": {\n",
      "            \"person_id\": {\n",
      "                  \"source_table\": \"demographics.csv\",\n",
      "                  \"source_field\": \"encrypted_id\"\n",
      "            },\n",
      "            \"birth_datetime\": {\n",
      "                  \"source_table\": \"demographics.csv\",\n",
      "                  \"source_field\": \"dob\"\n",
      "            },\n",
      "            \"gender_concept_id\": {\n",
      "                  \"source_table\": \"demographics.csv\",\n",
      "                  \"source_field\": \"sex\",\n",
      "                  \"term_mapping\": {\n",
      "                        \"1\": 8507,\n",
      "                        \"2\": 8532\n",
      "                  }\n",
      "            },\n",
      "            \"gender_source_value\": {\n",
      "                  \"source_table\": \"demographics.csv\",\n",
      "                  \"source_field\": \"sex\"\n",
      "            }\n",
      "      }\n",
      "}\n"
     ]
    }
   ],
   "source": [
    "demo = cmapper.map(\n",
    "    \"demographics.csv\",\n",
    "    {\"sex\": {\"1\": \"8507\", \"2\": \"8532\"}},\n",
    "    \"encrypted_id\",\n",
    "    \"dob\",\n",
    ")\n",
    "print(json.dumps(demo, indent=6))"
   ]
  },
  {
   "cell_type": "markdown",
   "id": "aacd7db2",
   "metadata": {},
   "source": [
    "### Automatic mapping of conditions\n",
    "\n",
    "Automatically map the conditions table. The column `newconditon` contains all the ICD10CM codes that are in this dataset"
   ]
  },
  {
   "cell_type": "code",
   "execution_count": 36,
   "id": "26fa5370",
   "metadata": {},
   "outputs": [
    {
     "data": {
      "text/plain": [
       "0           I10\n",
       "1         E11.9\n",
       "2         Z51.1\n",
       "3         N39.0\n",
       "4         I25.9\n",
       "          ...  \n",
       "12816     Z31.5\n",
       "12817     Z58.6\n",
       "12818     Z62.1\n",
       "12819     Z70.3\n",
       "12820    Z91.73\n",
       "Name: newcondition, Length: 12821, dtype: object"
      ]
     },
     "execution_count": 36,
     "metadata": {},
     "output_type": "execute_result"
    }
   ],
   "source": [
    "df_smr01['smr01_conditions.csv']['newcondition']"
   ]
  },
  {
   "cell_type": "markdown",
   "id": "611e3151",
   "metadata": {},
   "source": [
    "Run the cmapper to map this column of this table "
   ]
  },
  {
   "cell_type": "code",
   "execution_count": 37,
   "id": "5b5735e6",
   "metadata": {},
   "outputs": [
    {
     "name": "stdout",
     "output_type": "stream",
     "text": [
      "{\n",
      "      \"condition_occurrence\": {\n",
      "            \"person_id\": {\n",
      "                  \"source_table\": \"smr01_conditions.csv\",\n",
      "                  \"source_field\": \"encrypted_id\"\n",
      "            },\n",
      "            \"condition_start_datetime\": {\n",
      "                  \"source_table\": \"smr01_conditions.csv\",\n",
      "                  \"source_field\": \"admission_date\"\n",
      "            },\n",
      "            \"condition_concept_id\": {\n",
      "                  \"source_table\": \"smr01_conditions.csv\",\n",
      "                  \"source_field\": \"newcondition\",\n",
      "                  \"term_mapping\": {\n",
      "                        \"A00.9\": 198677,\n",
      "                        \"A01.0\": 192819,\n",
      "                        \"A01.1\": 195460,\n",
      "                        \"A01.2\": 193953,\n",
      "                        \"A01.3\": 442291,\n",
      "                        \"A01.4\": 195177,\n",
      "                        \"A02.0\": 196328,\n",
      "                        \"A02.1\": 40493039,\n",
      "                        \"A02.2\": 141209,\n",
      "                        \"A02.8\": 133685,\n",
      "                        \"A02.9\": 133685,\n",
      "                .....\n"
     ]
    }
   ],
   "source": [
    "tab_1 = cmapper.map(\n",
    "    source_table=\"smr01_conditions.csv\",\n",
    "    source_field=\"newcondition\",\n",
    "    person_id=\"encrypted_id\", \n",
    "    date_event=\"admission_date\"\n",
    ")\n",
    "print(json.dumps(tab_1, indent=6)[:1000]+\".....\")"
   ]
  },
  {
   "cell_type": "markdown",
   "id": "21e3bd43",
   "metadata": {},
   "source": [
    "### Automatic mapping of Operations\n",
    "\n",
    "Next we map the operations table"
   ]
  },
  {
   "cell_type": "code",
   "execution_count": 38,
   "id": "6be50d10",
   "metadata": {},
   "outputs": [
    {
     "name": "stdout",
     "output_type": "stream",
     "text": [
      "{\n",
      "      \"condition_occurrence\": {\n",
      "            \"person_id\": {\n",
      "                  \"source_table\": \"smr01_operations.csv\",\n",
      "                  \"source_field\": \"encrypted_id\"\n",
      "            },\n",
      "            \"condition_start_datetime\": {\n",
      "                  \"source_table\": \"smr01_operations.csv\",\n",
      "                  \"source_field\": \"date_operation\"\n",
      "            },\n",
      "            \"condition_concept_id\": {\n",
      "                  \"source_table\": \"smr01_operations.csv\",\n",
      "                  \"source_field\": \"operation_new\",\n",
      "                  \"term_mapping\": {\n",
      "                        \"A01.1\": 195460,\n",
      "                        \"A01.2\": 193953,\n",
      "                        \"A01.3\": 442291,\n",
      "                        \"A02.1\": 40493039,\n",
      "                        \"A02.2\": 141209,\n",
      "                        \"A02.8\": 133685,\n",
      "                        \"A02.9\": 133685,\n",
      "                        \"A03.1\": 4145763,\n",
      "                        \"A03.2\": 4185509,\n",
      "                        \"A03.3\": 4321384,\n",
      "                        \"A03.8\": 440938,\n",
      "            .....\n"
     ]
    }
   ],
   "source": [
    "tab_2 = cmapper.map(\n",
    "    \"smr01_operations.csv\", \"operation_new\", \"encrypted_id\", \"date_operation\"\n",
    ")\n",
    "print(json.dumps(tab_2, indent=6)[:1000]+\".....\")"
   ]
  },
  {
   "cell_type": "markdown",
   "id": "62a0e0cc",
   "metadata": {},
   "source": [
    "### TODO: Discharged"
   ]
  },
  {
   "cell_type": "code",
   "execution_count": 49,
   "id": "25260439",
   "metadata": {},
   "outputs": [
    {
     "data": {
      "text/plain": [
       "Index(['encrypted_id', 'Frequency', 'discharge_date', 'Frequency.1',\n",
       "       'discharge_type', 'Frequency.2', 'discharge_transfer_to', 'Frequency.3',\n",
       "       'length_of_stay', 'Frequency.4'],\n",
       "      dtype='object')"
      ]
     },
     "execution_count": 49,
     "metadata": {},
     "output_type": "execute_result"
    }
   ],
   "source": [
    "df_smr01['smr01_discharges.csv'].keys()"
   ]
  },
  {
   "cell_type": "code",
   "execution_count": 50,
   "id": "cd492abf",
   "metadata": {},
   "outputs": [
    {
     "data": {
      "text/plain": [
       "array([10., 11., 12., 13., 14., 15., 18., 19., 20., 21., 22., 28., 29.,\n",
       "       40., 41., 42., 43., 70.])"
      ]
     },
     "execution_count": 50,
     "metadata": {},
     "output_type": "execute_result"
    }
   ],
   "source": [
    "df_smr01['smr01_discharges.csv']['discharge_type'].dropna().unique()"
   ]
  },
  {
   "cell_type": "markdown",
   "id": "8f748ddb",
   "metadata": {},
   "source": [
    "### TODO: Admissions"
   ]
  },
  {
   "cell_type": "code",
   "execution_count": 52,
   "id": "970f6b50",
   "metadata": {},
   "outputs": [
    {
     "data": {
      "text/plain": [
       "Index(['encrypted_id', 'Frequency', 'admission_date', 'Frequency.1',\n",
       "       'admission_type', 'Frequency.2', 'admission_reason', 'Frequency.3',\n",
       "       'admission_transfer_from', 'Frequency.4', 'speciality', 'Frequency.5',\n",
       "       'significant_facility', 'Frequency.6'],\n",
       "      dtype='object')"
      ]
     },
     "execution_count": 52,
     "metadata": {},
     "output_type": "execute_result"
    }
   ],
   "source": [
    "df_smr01['smr01_admissions.csv'].keys()"
   ]
  },
  {
   "cell_type": "code",
   "execution_count": 54,
   "id": "abd042a5",
   "metadata": {},
   "outputs": [
    {
     "data": {
      "text/plain": [
       "array([10, 11, 12, 13, 14, 15, 16, 17, 18, 19, '1A', '1B', '1C', '1E',\n",
       "       '1F', '1G', '1H', '1J', '1K', '1M', 20, 21, 22, 40, 41, 42, 43, 44,\n",
       "       45, 46, 47, 48, 49, '4A', '4B'], dtype=object)"
      ]
     },
     "execution_count": 54,
     "metadata": {},
     "output_type": "execute_result"
    }
   ],
   "source": [
    "df_smr01['smr01_admissions.csv']['admission_reason'].dropna().unique()"
   ]
  },
  {
   "cell_type": "markdown",
   "id": "d9d30ae8",
   "metadata": {},
   "source": [
    "### Output Rules JSON\n",
    "\n",
    "Finally we construct a rules file that is compatitble with the carrot-cdm"
   ]
  },
  {
   "cell_type": "code",
   "execution_count": 56,
   "id": "1cddecb6",
   "metadata": {},
   "outputs": [
    {
     "name": "stdout",
     "output_type": "stream",
     "text": [
      "{\n",
      "      \"cdm\": {\n",
      "            \"person\": {\n",
      "                  \"person_0\": {\n",
      "                        \"person_id\": {\n",
      "                              \"source_table\": \"demographics.csv\",\n",
      "                              \"source_field\": \"encrypted_id\"\n",
      "                        },\n",
      "                        \"birth_datetime\": {\n",
      "                              \"source_table\": \"demographics.csv\",\n",
      "                              \"source_field\": \"dob\"\n",
      "                        },\n",
      "                        \"gender_concept_id\": {\n",
      "                              \"source_table\": \"demographics.csv\",\n",
      "                              \"s.....\n"
     ]
    }
   ],
   "source": [
    "rules = {\n",
    "    **{k: {f\"{k}_{i}\": v} for i, (k, v) in enumerate(demo.items())},\n",
    "    **{k: {f\"{k}_{i}\": v} for i, (k, v) in enumerate(tab_1.items())},\n",
    "    **{k: {f\"{k}_{i}\": v} for i, (k, v) in enumerate(tab_2.items())},\n",
    "}\n",
    "\n",
    "rules = {\"cdm\": rules, \"metadata\": {\"dataset\": \"PHS_SMR01\"}}\n",
    "with open(\"rules/rules_smr01.json\", \"w\") as f:\n",
    "    json.dump(rules, f, indent=6)\n",
    "\n",
    "print(json.dumps(rules, indent=6)[:600]+\".....\")"
   ]
  },
  {
   "cell_type": "markdown",
   "id": "ca5425be",
   "metadata": {},
   "source": [
    "### Alternative Rules\n",
    "\n",
    "Create some alternative rules with a rule per concept (i.e. maximum one concept mapped in each term mapping)"
   ]
  },
  {
   "cell_type": "code",
   "execution_count": 57,
   "id": "a9ccd734",
   "metadata": {},
   "outputs": [
    {
     "name": "stdout",
     "output_type": "stream",
     "text": [
      "{\n",
      "      \"cdm\": {\n",
      "            \"person\": {\n",
      "                  \"female\": {\n",
      "                        \"person_id\": {\n",
      "                              \"source_table\": \"demographics.csv\",\n",
      "                              \"source_field\": \"encrypted_id\"\n",
      "                        },\n",
      "                        \"birth_datetime\": {\n",
      "                              \"source_table\": \"demographics.csv\",\n",
      "                              \"source_field\": \"dob\"\n",
      "                        },\n",
      "                        \"gender_concept_id\": {\n",
      "                              \"source_table\": \"demographics.csv\",\n",
      "                              \"sou.....\n"
     ]
    }
   ],
   "source": [
    "demo_alt_f = cmapper.map(\n",
    "    \"demographics.csv\",\n",
    "    {\"sex\": {\"1\": \"8507\"}},\n",
    "    \"encrypted_id\",\n",
    "    \"dob\",\n",
    ")\n",
    "\n",
    "demo_alt_m = cmapper.map(\n",
    "    \"demographics.csv\",\n",
    "    {\"sex\": {\"2\": \"8532\"}},\n",
    "    \"encrypted_id\",\n",
    "    \"dob\",\n",
    ")\n",
    "\n",
    "tab_1_alt = cmapper.map(\n",
    "    \"smr01_conditions.csv\", \"newcondition\", \"encrypted_id\", \"admission_date\",one_to_one=True\n",
    ")\n",
    "\n",
    "tab_2_alt = cmapper.map(\n",
    "    \"smr01_operations.csv\", \"operation_new\", \"encrypted_id\", \"date_operation\",one_to_one=True\n",
    ")\n",
    "\n",
    "\n",
    "rules_alt = {\n",
    "    **{\"person\": {\n",
    "        \"female\": demo_alt_f['person'],\n",
    "        \"male\": demo_alt_m['person']\n",
    "    }},\n",
    "    **{\n",
    "        k: { \n",
    "            f\"{k}_{i}\": obj\n",
    "            for i,obj in enumerate(v)\n",
    "        }\n",
    "        for k, v in tab_1_alt.items()\n",
    "    },\n",
    "        **{\n",
    "        k: { \n",
    "            f\"{k}_{i}\": obj\n",
    "            for i,obj in enumerate(v)\n",
    "        }\n",
    "        for k, v in tab_2_alt.items()\n",
    "    }\n",
    "}\n",
    "\n",
    "rules_alt = {\"cdm\": rules_alt, \"metadata\": {\"dataset\": \"PHS_SMR01\"}}\n",
    "with open(\"rules/rules_smr01_alternative.json\", \"w\") as f:\n",
    "    json.dump(rules_alt, f, indent=6)\n",
    "\n",
    "print(json.dumps(rules_alt, indent=6)[:600]+\".....\")\n"
   ]
  },
  {
   "cell_type": "markdown",
   "id": "dfa0ea46",
   "metadata": {},
   "source": [
    "## Map SMR00\n",
    "\n"
   ]
  },
  {
   "cell_type": "code",
   "execution_count": 72,
   "id": "5fe87d8e",
   "metadata": {},
   "outputs": [],
   "source": [
    "df_smr00 = pd.read_excel(\"./ScanReports/smr00_ScanReport_all.xlsx\", sheet_name=None)\n",
    "cmapper.set_scan_report(df_smr00)"
   ]
  },
  {
   "cell_type": "code",
   "execution_count": 73,
   "id": "ca4ea750",
   "metadata": {},
   "outputs": [
    {
     "data": {
      "text/plain": [
       "dict_keys(['Field Overview', 'Table Overview', 'smr00_condition.csv', 'demographics.csv', 'smr00_data.csv', 'smr00_ref_data.csv', 'smr00_operation.csv', '_'])"
      ]
     },
     "execution_count": 73,
     "metadata": {},
     "output_type": "execute_result"
    }
   ],
   "source": [
    "df_smr00.keys()"
   ]
  },
  {
   "cell_type": "markdown",
   "id": "c70b63a7",
   "metadata": {},
   "source": [
    "### Build the default rules"
   ]
  },
  {
   "cell_type": "code",
   "execution_count": 76,
   "id": "2441f5bb",
   "metadata": {},
   "outputs": [
    {
     "name": "stdout",
     "output_type": "stream",
     "text": [
      "{\n",
      "      \"cdm\": {\n",
      "            \"person\": {\n",
      "                  \"person_0\": {\n",
      "                        \"person_id\": {\n",
      "                              \"source_table\": \"demographics.csv\",\n",
      "                              \"source_field\": \"encrypted_id\"\n",
      "                        },\n",
      "                        \"birth_datetime\": {\n",
      "                              \"source_table\": \"demographics.csv\",\n",
      "                              \"source_field\": \"dob\"\n",
      "                        },\n",
      "                        \"gender_concept_id\": {\n",
      "                              \"source_table\": \"demographics.csv\",\n",
      "                              \"source_field\": \"sex\",\n",
      "                              \"term_mapping\": {\n",
      "                                    \"1\": 8507,\n",
      "                                    \"2\": 8532\n",
      "                              }\n",
      "                        },\n",
      "                        \"gender_source_value\": {\n",
      "                              \"source_table\": \"demographics.csv\",\n",
      "                              \"source_field\": \"sex\"\n",
      "            .....\n"
     ]
    }
   ],
   "source": [
    "demo = cmapper.map(\n",
    "    \"demographics.csv\",\n",
    "    {\"sex\": {\"1\": \"8507\", \"2\": \"8532\"}},\n",
    "    \"encrypted_id\",\n",
    "    \"dob\",\n",
    ")\n",
    "\n",
    "tab_1 = cmapper.map(\"smr00_condition.csv\", \"newcondition\", \"encrypted_id\", \"clinic_date\")\n",
    "tab_2 = cmapper.map(\"smr00_operation.csv\", \"operation_new\", \"encrypted_id\", \"clinic_date\")\n",
    "tab_3 = cmapper.map(\"smr00_ref_data.csv\",\"referral_reason\",\"encrypted_id\", \"clinic_date\")\n",
    "\n",
    "rules = {\n",
    "    **{k: {f\"{k}_{i}\": v} for i, (k, v) in enumerate(demo.items())},\n",
    "    **{k: {f\"{k}_{i}\": v} for i, (k, v) in enumerate(tab_1.items())},\n",
    "    **{k: {f\"{k}_{i}\": v} for i, (k, v) in enumerate(tab_2.items())},\n",
    "    **{k: {f\"{k}_{i}\": v} for i, (k, v) in enumerate(tab_3.items())},\n",
    "}\n",
    "\n",
    "rules = {\"cdm\": rules, \"metadata\": {\"dataset\": \"PHS_SMR00\"}}\n",
    "\n",
    "with open(\"rules/rules_smr00.json\", \"w\") as f:\n",
    "    json.dump(rules, f, indent=6)\n",
    "\n",
    "\n",
    "\n",
    "print(json.dumps(rules, indent=6)[:1000]+\".....\")\n",
    "\n"
   ]
  },
  {
   "cell_type": "markdown",
   "id": "f6e63796",
   "metadata": {},
   "source": [
    "### Alternative rules\n",
    "\n",
    "As above, build rules with one-to-one concept mapping"
   ]
  },
  {
   "cell_type": "code",
   "execution_count": 78,
   "id": "a9886618",
   "metadata": {},
   "outputs": [
    {
     "name": "stdout",
     "output_type": "stream",
     "text": [
      "{\n",
      "      \"cdm\": {\n",
      "            \"person\": {\n",
      "                  \"female\": {\n",
      "                        \"person_id\": {\n",
      "                              \"source_table\": \"demographics.csv\",\n",
      "                              \"source_field\": \"encrypted_id\"\n",
      "                        },\n",
      "                        \"birth_datetime\": {\n",
      "                              \"source_table\": \"demographics.csv\",\n",
      "                              \"source_field\": \"dob\"\n",
      "                        },\n",
      "                        \"gender_concept_id\": {\n",
      "                              \"source_table\": \"demographics.csv\",\n",
      "                              \"source_field\": \"sex\",\n",
      "                              \"term_mapping\": {\n",
      "                                    \"1\": 8507\n",
      "                              }\n",
      "                        },\n",
      "                        \"gender_source_value\": {\n",
      "                              \"source_table\": \"demographics.csv\",\n",
      "                              \"source_field\": \"sex\"\n",
      "                        }\n",
      "                  },\n",
      "              .....\n"
     ]
    }
   ],
   "source": [
    "demo_alt_f = cmapper.map(\n",
    "    \"demographics.csv\",\n",
    "    {\"sex\": {\"1\": \"8507\"}},\n",
    "    \"encrypted_id\",\n",
    "    \"dob\",\n",
    ")\n",
    "\n",
    "demo_alt_m = cmapper.map(\n",
    "    \"demographics.csv\",\n",
    "    {\"sex\": {\"2\": \"8532\"}},\n",
    "    \"encrypted_id\",\n",
    "    \"dob\",\n",
    ")\n",
    "\n",
    "\n",
    "tab_1_alt = cmapper.map(\"smr00_condition.csv\", \"newcondition\", \"encrypted_id\", \"clinic_date\",one_to_one=True)\n",
    "tab_2_alt = cmapper.map(\"smr00_operation.csv\", \"operation_new\", \"encrypted_id\", \"clinic_date\",one_to_one=True)\n",
    "tab_3_alt = cmapper.map(\"smr00_ref_data.csv\",\"referral_reason\",\"encrypted_id\", \"clinic_date\",one_to_one=True)\n",
    "\n",
    "\n",
    "rules_alt = {\n",
    "    **{\"person\": {\n",
    "        \"female\": demo_alt_f['person'],\n",
    "        \"male\": demo_alt_m['person']\n",
    "    }},\n",
    "    **{\n",
    "        k: { \n",
    "            f\"{k}_{i}\": obj\n",
    "            for i,obj in enumerate(v)\n",
    "        }\n",
    "        for k, v in tab_1_alt.items()\n",
    "    },\n",
    "        **{\n",
    "        k: { \n",
    "            f\"{k}_{i}\": obj\n",
    "            for i,obj in enumerate(v)\n",
    "        }\n",
    "        for k, v in tab_2_alt.items()\n",
    "    },\n",
    "        **{\n",
    "        k: { \n",
    "            f\"{k}_{i}\": obj\n",
    "            for i,obj in enumerate(v)\n",
    "        }\n",
    "        for k, v in tab_3_alt.items()\n",
    "    }\n",
    "}\n",
    "\n",
    "rules_alt = {\"cdm\": rules_alt, \"metadata\": {\"dataset\": \"PHS_SMR00\"}}\n",
    "with open(\"rules/rules_smr00_alternative.json\", \"w\") as f:\n",
    "    json.dump(rules_alt, f, indent=6)\n",
    "\n",
    "print(json.dumps(rules_alt, indent=6)[:1000]+\".....\")\n"
   ]
  },
  {
   "cell_type": "markdown",
   "id": "afcfaf89",
   "metadata": {},
   "source": [
    "## Map SMR04"
   ]
  },
  {
   "cell_type": "code",
   "execution_count": 80,
   "id": "a23a5c24",
   "metadata": {},
   "outputs": [],
   "source": [
    "df_smr04 = pd.read_excel(\"./ScanReports/smr04_ScanReport_all.xlsx\", sheet_name=None)\n",
    "cmapper.set_scan_report(df_smr04)"
   ]
  },
  {
   "cell_type": "code",
   "execution_count": 81,
   "id": "a212f83e",
   "metadata": {},
   "outputs": [
    {
     "data": {
      "text/plain": [
       "dict_keys(['Field Overview', 'Table Overview', 'smr04_operations.csv', 'smr04_discharge.csv', 'smr04_admission.csv', 'demographics.csv', 'smr04_conditions.csv', '_'])"
      ]
     },
     "execution_count": 81,
     "metadata": {},
     "output_type": "execute_result"
    }
   ],
   "source": [
    "df_smr04.keys()"
   ]
  },
  {
   "cell_type": "code",
   "execution_count": 85,
   "id": "d0cc6e84",
   "metadata": {},
   "outputs": [
    {
     "name": "stdout",
     "output_type": "stream",
     "text": [
      "{\n",
      "      \"cdm\": {\n",
      "            \"person\": {\n",
      "                  \"person_0\": {\n",
      "                        \"person_id\": {\n",
      "                              \"source_table\": \"demographics.csv\",\n",
      "                              \"source_field\": \"encrypted_id\"\n",
      "                        },\n",
      "                        \"birth_datetime\": {\n",
      "                              \"source_table\": \"demographics.csv\",\n",
      "                              \"source_field\": \"dob\"\n",
      "                        },\n",
      "                        \"gender_concept_id\": {\n",
      "                              \"source_table\": \"demographics.csv\",\n",
      "                              \"source_field\": \"sex\",\n",
      "                              \"term_mapping\": {\n",
      "                                    \"1\": 8507,\n",
      "                                    \"2\": 8532\n",
      "                              }\n",
      "                        },\n",
      "                        \"gender_source_value\": {\n",
      "                              \"source_table\": \"demographics.csv\",\n",
      "                              \"source_field\": \"sex\"\n",
      "            .....\n"
     ]
    }
   ],
   "source": [
    "demo = cmapper.map(\n",
    "    \"demographics.csv\",\n",
    "    {\"sex\": {\"1\": \"8507\", \"2\": \"8532\"}},\n",
    "    \"encrypted_id\",\n",
    "    \"dob\",\n",
    ")\n",
    "\n",
    "tab_1 = cmapper.map(\"smr04_conditions.csv\", \"newcondition\", \"encrypted_id\", \"clinic_date\")\n",
    "tab_2 = cmapper.map(\"smr04_operations.csv\", \"operation_new\", \"encrypted_id\", \"clinic_date\")\n",
    "\n",
    "rules = {\n",
    "    **{k: {f\"{k}_{i}\": v} for i, (k, v) in enumerate(demo.items())},\n",
    "    **{k: {f\"{k}_{i}\": v} for i, (k, v) in enumerate(tab_1.items())},\n",
    "    **{k: {f\"{k}_{i}\": v} for i, (k, v) in enumerate(tab_2.items())},\n",
    "}\n",
    "\n",
    "rules = {\"cdm\": rules, \"metadata\": {\"dataset\": \"PHS_SMR04\"}}\n",
    "\n",
    "with open(\"rules/rules_smr04.json\", \"w\") as f:\n",
    "    json.dump(rules, f, indent=6)\n",
    "\n",
    "\n",
    "\n",
    "print(json.dumps(rules, indent=6)[:1000]+\".....\")\n",
    "\n"
   ]
  },
  {
   "cell_type": "markdown",
   "id": "bf46852c",
   "metadata": {},
   "source": [
    "### Alternative rules"
   ]
  },
  {
   "cell_type": "code",
   "execution_count": 86,
   "id": "03b3ee41",
   "metadata": {},
   "outputs": [
    {
     "name": "stdout",
     "output_type": "stream",
     "text": [
      "{\n",
      "      \"cdm\": {\n",
      "            \"person\": {\n",
      "                  \"female\": {\n",
      "                        \"person_id\": {\n",
      "                              \"source_table\": \"demographics.csv\",\n",
      "                              \"source_field\": \"encrypted_id\"\n",
      "                        },\n",
      "                        \"birth_datetime\": {\n",
      "                              \"source_table\": \"demographics.csv\",\n",
      "                              \"source_field\": \"dob\"\n",
      "                        },\n",
      "                        \"gender_concept_id\": {\n",
      "                              \"source_table\": \"demographics.csv\",\n",
      "                              \"source_field\": \"sex\",\n",
      "                              \"term_mapping\": {\n",
      "                                    \"1\": 8507\n",
      "                              }\n",
      "                        },\n",
      "                        \"gender_source_value\": {\n",
      "                              \"source_table\": \"demographics.csv\",\n",
      "                              \"source_field\": \"sex\"\n",
      "                        }\n",
      "                  },\n",
      "              .....\n"
     ]
    }
   ],
   "source": [
    "demo_alt_f = cmapper.map(\n",
    "    \"demographics.csv\",\n",
    "    {\"sex\": {\"1\": \"8507\"}},\n",
    "    \"encrypted_id\",\n",
    "    \"dob\",\n",
    ")\n",
    "\n",
    "demo_alt_m = cmapper.map(\n",
    "    \"demographics.csv\",\n",
    "    {\"sex\": {\"2\": \"8532\"}},\n",
    "    \"encrypted_id\",\n",
    "    \"dob\",\n",
    ")\n",
    "\n",
    "\n",
    "tab_1_alt = cmapper.map(\"smr04_conditions.csv\", \"newcondition\", \"encrypted_id\", \"clinic_date\",one_to_one=True)\n",
    "tab_2_alt = cmapper.map(\"smr04_operations.csv\", \"operation_new\", \"encrypted_id\", \"clinic_date\",one_to_one=True)\n",
    "\n",
    "\n",
    "rules_alt = {\n",
    "    **{\"person\": {\n",
    "        \"female\": demo_alt_f['person'],\n",
    "        \"male\": demo_alt_m['person']\n",
    "    }},\n",
    "    **{\n",
    "        k: { \n",
    "            f\"{k}_{i}\": obj\n",
    "            for i,obj in enumerate(v)\n",
    "        }\n",
    "        for k, v in tab_1_alt.items()\n",
    "    },\n",
    "        **{\n",
    "        k: { \n",
    "            f\"{k}_{i}\": obj\n",
    "            for i,obj in enumerate(v)\n",
    "        }\n",
    "        for k, v in tab_2_alt.items()\n",
    "    },\n",
    "        **{\n",
    "        k: { \n",
    "            f\"{k}_{i}\": obj\n",
    "            for i,obj in enumerate(v)\n",
    "        }\n",
    "        for k, v in tab_3_alt.items()\n",
    "    }\n",
    "}\n",
    "\n",
    "rules_alt = {\"cdm\": rules_alt, \"metadata\": {\"dataset\": \"PHS_SMR04\"}}\n",
    "with open(\"rules/rules_smr04_alternative.json\", \"w\") as f:\n",
    "    json.dump(rules_alt, f, indent=6)\n",
    "\n",
    "print(json.dumps(rules_alt, indent=6)[:1000]+\".....\")"
   ]
  },
  {
   "cell_type": "markdown",
   "id": "4ab4c5c1",
   "metadata": {},
   "source": [
    "## Map NRS Deaths\n",
    "\n",
    "Moving onto mapping the NRS Deaths scan report\n",
    "\n",
    "First we load the new scan report and set it in the pycarrot mapper instance\n"
   ]
  },
  {
   "cell_type": "code",
   "execution_count": 87,
   "id": "8da922e5",
   "metadata": {},
   "outputs": [],
   "source": [
    "df_deaths = pd.read_excel(\"./ScanReports/Deaths_ScanReport.xlsx\", sheet_name=None)\n",
    "cmapper.set_scan_report(df_deaths)"
   ]
  },
  {
   "cell_type": "markdown",
   "id": "6d37c28b",
   "metadata": {},
   "source": [
    "\n",
    "### Build the default rules\n"
   ]
  },
  {
   "cell_type": "code",
   "execution_count": null,
   "id": "51d2f058",
   "metadata": {},
   "outputs": [],
   "source": [
    "\n",
    "\n",
    "demo = cmapper.map(\n",
    "    \"demographics.csv\",\n",
    "    {\"sex\": {\"1\": \"8507\", \"2\": \"8532\"}},\n",
    "    \"encrypted_id\",\n",
    "    \"dob\",\n",
    ")\n",
    "\n",
    "tab_1 = cmapper.map(\"deaths_a.csv\", \"causedeath\", \"encrypted_id\", \"date_of_death\")\n",
    "tab_2 = cmapper.map(\n",
    "    \"deaths_b.csv\", {\"death\": {\"1\": \"4306655\"}}, \"encrypted_id\", \"date_of_death\"\n",
    ")\n",
    "\n",
    "rules = {\n",
    "    **{k: {f\"{k}_{i}\": v} for i, (k, v) in enumerate(demo.items())},\n",
    "    **{k: {f\"{k}_{i}\": v} for i, (k, v) in enumerate(tab_1.items())},\n",
    "    **{k: {f\"{k}_{i}\": v} for i, (k, v) in enumerate(tab_2.items())},\n",
    "}\n",
    "\n",
    "rules = {\"cdm\": rules, \"metadata\": {\"dataset\": \"PHS_deaths\"}}\n",
    "\n",
    "with open(\"rules/rules_deaths.json\", \"w\") as f:\n",
    "    json.dump(rules, f, indent=6)\n",
    "\n",
    "\n",
    "\n",
    "print(json.dumps(rules, indent=6)[:1000]+\".....\")\n",
    "\n",
    "\n",
    "\n",
    "### Alternative rules\n",
    "\n",
    "As above, build rules with one-to-one concept mapping\n",
    "\n",
    "demo_alt_f = cmapper.map(\n",
    "    \"demographics.csv\",\n",
    "    {\"sex\": {\"1\": \"8507\"}},\n",
    "    \"encrypted_id\",\n",
    "    \"dob\",\n",
    ")\n",
    "\n",
    "demo_alt_m = cmapper.map(\n",
    "    \"demographics.csv\",\n",
    "    {\"sex\": {\"2\": \"8532\"}},\n",
    "    \"encrypted_id\",\n",
    "    \"dob\",\n",
    ")\n",
    "\n",
    "tab_1_alt = cmapper.map(\"deaths_a.csv\", \"causedeath\", \"encrypted_id\", \"date_of_death\",one_to_one=True)\n",
    "tab_2_alt = cmapper.map(\n",
    "    \"deaths_b.csv\", {\"death\": {\"1\": \"4306655\"}}, \"encrypted_id\", \"date_of_death\",one_to_one=True\n",
    ")\n",
    "\n",
    "\n",
    "rules_alt = {\n",
    "    **{\"person\": {\n",
    "        \"female\": demo_alt_f['person'],\n",
    "        \"male\": demo_alt_m['person']\n",
    "    }},\n",
    "    **{\n",
    "        k: { \n",
    "            f\"{k}_{i}\": obj\n",
    "            for i,obj in enumerate(v)\n",
    "        }\n",
    "        for k, v in tab_1_alt.items()\n",
    "    },\n",
    "        **{\n",
    "        k: { \n",
    "            f\"{k}_{i}\": obj\n",
    "            for i,obj in enumerate(v)\n",
    "        }\n",
    "        for k, v in tab_2_alt.items()\n",
    "    }\n",
    "}\n",
    "\n",
    "rules_alt = {\"cdm\": rules_alt, \"metadata\": {\"dataset\": \"PHS_deaths\"}}\n",
    "with open(\"rules/rules_deaths_alternative.json\", \"w\") as f:\n",
    "    json.dump(rules_alt, f, indent=6)\n",
    "\n",
    "print(json.dumps(rules_alt, indent=6)[:1000]+\".....\")\n"
   ]
  }
 ],
 "metadata": {
  "kernelspec": {
   "display_name": "Python 3 (ipykernel)",
   "language": "python",
   "name": "python3"
  },
  "language_info": {
   "codemirror_mode": {
    "name": "ipython",
    "version": 3
   },
   "file_extension": ".py",
   "mimetype": "text/x-python",
   "name": "python",
   "nbconvert_exporter": "python",
   "pygments_lexer": "ipython3",
   "version": "3.9.18"
  }
 },
 "nbformat": 4,
 "nbformat_minor": 5
}
