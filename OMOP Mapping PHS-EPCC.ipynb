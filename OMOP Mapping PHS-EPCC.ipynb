{
 "cells": [
  {
   "cell_type": "code",
   "execution_count": 1,
   "id": "aef1fdc7",
   "metadata": {},
   "outputs": [],
   "source": [
    "%load_ext autoreload\n",
    "%autoreload 2"
   ]
  },
  {
   "cell_type": "markdown",
   "id": "aee2b60a",
   "metadata": {},
   "source": [
    "# Example: Mapping PHS-EPCC dataset\n",
    "\n",
    "These are notes on how to use the pycarrot mapper to OMOP map a dataset\n",
    "\n",
    "It requires the following:\n",
    "- `pycarrot` folder containing the source code in the running directory\n",
    "- an [OMOP database](https://athena.ohdsi.org/vocabulary/list) running locally with some from of SQL (MySQL, PostGres,..)\n",
    "\n",
    "## Setup\n",
    "\n",
    "### OMOP database\n",
    "\n",
    "Create an engine from sqlalchemy for the OMOP database"
   ]
  },
  {
   "cell_type": "code",
   "execution_count": 2,
   "id": "8144e1ac",
   "metadata": {},
   "outputs": [],
   "source": [
    "import json\n",
    "from sqlalchemy import create_engine\n",
    "username=\"admin\"\n",
    "password=\"test!\"\n",
    "hostname=\"localhost\"\n",
    "port=\"5432\"\n",
    "database_name=\"omop\"\n",
    "\n",
    "connection_string = f\"postgresql+psycopg2://{username}:{password}@{hostname}:{port}/{database_name}\"\n",
    "engine = create_engine(connection_string)\n"
   ]
  },
  {
   "cell_type": "markdown",
   "id": "4cfc55bf",
   "metadata": {},
   "source": [
    "### PyCarrot Concept Finder\n",
    "\n",
    "Load the concept finder"
   ]
  },
  {
   "cell_type": "code",
   "execution_count": 3,
   "id": "32a0f8f9",
   "metadata": {},
   "outputs": [],
   "source": [
    "from pycarrot import ConceptFinder\n",
    "\n",
    "cfinder = ConceptFinder(engine)"
   ]
  },
  {
   "cell_type": "markdown",
   "id": "90adba91",
   "metadata": {},
   "source": [
    "Test retrieving information for a concept code for MALE"
   ]
  },
  {
   "cell_type": "code",
   "execution_count": 4,
   "id": "bb80886f",
   "metadata": {},
   "outputs": [
    {
     "data": {
      "text/plain": [
       "[{'concept_id': 8507,\n",
       "  'concept_name': 'MALE',\n",
       "  'domain_id': 'Gender',\n",
       "  'vocabulary_id': 'Gender',\n",
       "  'concept_class_id': 'Gender',\n",
       "  'standard_concept': 'S',\n",
       "  'concept_code': 'M',\n",
       "  'valid_start_date': 19700101,\n",
       "  'valid_end_date': 20991231,\n",
       "  'invalid_reason': None}]"
      ]
     },
     "execution_count": 4,
     "metadata": {},
     "output_type": "execute_result"
    }
   ],
   "source": [
    "cfinder.find_concept(8507)"
   ]
  },
  {
   "cell_type": "markdown",
   "id": "2e9dd749",
   "metadata": {},
   "source": [
    "Test looking up based on ICD10CM codes"
   ]
  },
  {
   "cell_type": "code",
   "execution_count": 5,
   "id": "2fa231c0",
   "metadata": {},
   "outputs": [
    {
     "data": {
      "text/plain": [
       "{'A01.1': [{'original_code': 'A01.1',\n",
       "   'concept_id': 195460,\n",
       "   'concept_name': 'Paratyphoid A fever',\n",
       "   'domain_id': 'Condition',\n",
       "   'vocabulary_id': 'SNOMED',\n",
       "   'concept_class_id': 'Disorder',\n",
       "   'standard_concept': 'S',\n",
       "   'concept_code': '76623002',\n",
       "   'valid_start_date': 20020131,\n",
       "   'valid_end_date': 20991231,\n",
       "   'invalid_reason': None}]}"
      ]
     },
     "execution_count": 5,
     "metadata": {},
     "output_type": "execute_result"
    }
   ],
   "source": [
    "cfinder.find('A01.1')"
   ]
  },
  {
   "cell_type": "code",
   "execution_count": 6,
   "id": "70906d68",
   "metadata": {},
   "outputs": [
    {
     "name": "stdout",
     "output_type": "stream",
     "text": [
      "{\n",
      "      \"F28\": [\n",
      "            {\n",
      "                  \"original_code\": \"F28\",\n",
      "                  \"concept_id\": 436073,\n",
      "                  \"concept_name\": \"Psychotic disorder\",\n",
      "                  \"domain_id\": \"Condition\",\n",
      "                  \"vocabulary_id\": \"SNOMED\",\n",
      "                  \"concept_class_id\": \"Disorder\",\n",
      "                  \"standard_concept\": \"S\",\n",
      "                  \"concept_code\": \"69322001\",\n",
      "                  \"valid_start_date\": 20020131,\n",
      "                  \"valid_end_date\": 20991231,\n",
      "                  \"invalid_reason\": null\n",
      "            }\n",
      "      ],\n",
      "      \"C72.5\": [\n",
      "            {\n",
      "                  \"original_code\": \"C72.5\",\n",
      "                  \"concept_id\": 433975,\n",
      "                  \"concept_name\": \"Primary malignant neoplasm of cranial nerve\",\n",
      "                  \"domain_id\": \"Condition\",\n",
      "                  \"vocabulary_id\": \"SNOMED\",\n",
      "                  \"concept_class_id\": \"Disorder\",\n",
      "                  \"standard_concept\": \"S\",\n",
      "                  \"concept_code\": \"93767009\",\n",
      "                  \"valid_start_date\": 20020131,\n",
      "                  \"valid_end_date\": 20991231,\n",
      "                  \"invalid_reason\": null\n",
      "            }\n",
      "      ]\n",
      "}\n"
     ]
    }
   ],
   "source": [
    "print (json.dumps(cfinder.find(['C72.5','F28']),indent=6))"
   ]
  },
  {
   "cell_type": "markdown",
   "id": "512c4ac3",
   "metadata": {},
   "source": [
    "### PyCarrot Mapper\n",
    "\n",
    "Create an instance of the concept mapper that uses the finder "
   ]
  },
  {
   "cell_type": "code",
   "execution_count": 7,
   "id": "b13799dd",
   "metadata": {},
   "outputs": [
    {
     "data": {
      "text/plain": [
       "<pycarrot.concept_mapper.ConceptMapper at 0x11a211d60>"
      ]
     },
     "execution_count": 7,
     "metadata": {},
     "output_type": "execute_result"
    }
   ],
   "source": [
    "import json\n",
    "import pandas as pd\n",
    "from pycarrot import ConceptMapper\n",
    "cmapper = ConceptMapper(cfinder) \n",
    "cmapper"
   ]
  },
  {
   "cell_type": "markdown",
   "id": "ff8082bb",
   "metadata": {},
   "source": [
    "## WhiteRabbit Scan Reports\n",
    "\n",
    "Load a scan report"
   ]
  },
  {
   "cell_type": "code",
   "execution_count": 8,
   "id": "069b1d43",
   "metadata": {},
   "outputs": [],
   "source": [
    "df_smr01 = pd.read_excel(\"./ScanReports/SMR01_ScanReport.xlsx\", sheet_name=None)"
   ]
  },
  {
   "cell_type": "code",
   "execution_count": 9,
   "id": "b54f632b",
   "metadata": {},
   "outputs": [
    {
     "data": {
      "text/plain": [
       "dict_keys(['Field Overview', 'Table Overview', 'smr01_operations.csv', 'smr01_conditions.csv', 'demographics.csv', '_'])"
      ]
     },
     "execution_count": 9,
     "metadata": {},
     "output_type": "execute_result"
    }
   ],
   "source": [
    "df_smr01.keys()"
   ]
  },
  {
   "cell_type": "markdown",
   "id": "91ccec1d",
   "metadata": {},
   "source": [
    "## Map SMR01\n",
    "\n",
    "Set the scan report on the cmapper instance"
   ]
  },
  {
   "cell_type": "code",
   "execution_count": 10,
   "id": "e06d95e5",
   "metadata": {},
   "outputs": [],
   "source": [
    "cmapper.set_scan_report(df_smr01)"
   ]
  },
  {
   "cell_type": "markdown",
   "id": "cd785060",
   "metadata": {},
   "source": [
    "### Manually mapping demographics \n",
    "\n",
    "Manually map the demographics table with concept codes for male and female (this has been done by hand)"
   ]
  },
  {
   "cell_type": "code",
   "execution_count": 11,
   "id": "b08370ac",
   "metadata": {},
   "outputs": [
    {
     "name": "stdout",
     "output_type": "stream",
     "text": [
      "{\n",
      "      \"person\": {\n",
      "            \"person_id\": {\n",
      "                  \"source_table\": \"demographics.csv\",\n",
      "                  \"source_field\": \"encrypted_id\"\n",
      "            },\n",
      "            \"birth_datetime\": {\n",
      "                  \"source_table\": \"demographics.csv\",\n",
      "                  \"source_field\": \"dob\"\n",
      "            },\n",
      "            \"gender_concept_id\": {\n",
      "                  \"source_table\": \"demographics.csv\",\n",
      "                  \"source_field\": \"sex\",\n",
      "                  \"term_mapping\": {\n",
      "                        \"1\": 8507,\n",
      "                        \"2\": 8532\n",
      "                  }\n",
      "            },\n",
      "            \"gender_source_value\": {\n",
      "                  \"source_table\": \"demographics.csv\",\n",
      "                  \"source_field\": \"sex\"\n",
      "            }\n",
      "      }\n",
      "}\n"
     ]
    }
   ],
   "source": [
    "demo = cmapper.map(\n",
    "    \"demographics.csv\",\n",
    "    {\"sex\": {\"1\": \"8507\", \"2\": \"8532\"}},\n",
    "    \"encrypted_id\",\n",
    "    \"dob\",\n",
    ")\n",
    "print(json.dumps(demo, indent=6))"
   ]
  },
  {
   "cell_type": "markdown",
   "id": "aacd7db2",
   "metadata": {},
   "source": [
    "### Automatic mapping of Conditions\n",
    "\n",
    "Automatically map the conditions table. The column `newconditon` contains all the ICD10CM codes that are in this dataset"
   ]
  },
  {
   "cell_type": "code",
   "execution_count": 12,
   "id": "26fa5370",
   "metadata": {},
   "outputs": [
    {
     "data": {
      "text/plain": [
       "0        A00.0\n",
       "1        A00.9\n",
       "2        A01.0\n",
       "3        A01.1\n",
       "4        A01.2\n",
       "         ...  \n",
       "15176    Z99.2\n",
       "15177    Z99.3\n",
       "15178    Z99.4\n",
       "15179    Z99.8\n",
       "15180    Z99.9\n",
       "Name: newcondition, Length: 15181, dtype: object"
      ]
     },
     "execution_count": 12,
     "metadata": {},
     "output_type": "execute_result"
    }
   ],
   "source": [
    "df_smr01['smr01_conditions.csv']['newcondition']"
   ]
  },
  {
   "cell_type": "markdown",
   "id": "611e3151",
   "metadata": {},
   "source": [
    "Run the cmapper to map this column of this table "
   ]
  },
  {
   "cell_type": "code",
   "execution_count": 13,
   "id": "5b5735e6",
   "metadata": {},
   "outputs": [
    {
     "name": "stdout",
     "output_type": "stream",
     "text": [
      "{\n",
      "      \"condition_occurrence\": {\n",
      "            \"person_id\": {\n",
      "                  \"source_table\": \"smr01_conditions.csv\",\n",
      "                  \"source_field\": \"encrypted_id\"\n",
      "            },\n",
      "            \"condition_start_datetime\": {\n",
      "                  \"source_table\": \"smr01_conditions.csv\",\n",
      "                  \"source_field\": \"admission_date\"\n",
      "            },\n",
      "            \"condition_concept_id\": {\n",
      "                  \"source_table\": \"smr01_conditions.csv\",\n",
      "                  \"source_field\": \"newcondition\",\n",
      "                  \"term_mapping\": {\n",
      "                        \"A00.0\": 4344638,\n",
      "                        \"A00.9\": 198677,\n",
      "                        \"A01.0\": 192819,\n",
      "                        \"A01.1\": 195460,\n",
      "                        \"A01.2\": 193953,\n",
      "                        \"A01.3\": 442291,\n",
      "                        \"A01.4\": 195177,\n",
      "                        \"A02.0\": 196328,\n",
      "                        \"A02.1\": 40493039,\n",
      "                        \"A02.2\": 141209,\n",
      "                        \"A02.8\": 133685,\n",
      "               .....\n"
     ]
    }
   ],
   "source": [
    "tab_1 = cmapper.map(\n",
    "    source_table=\"smr01_conditions.csv\",\n",
    "    source_field=\"newcondition\",\n",
    "    person_id=\"encrypted_id\", \n",
    "    date_event=\"admission_date\"\n",
    ")\n",
    "print(json.dumps(tab_1, indent=6)[:1000]+\".....\")"
   ]
  },
  {
   "cell_type": "markdown",
   "id": "21e3bd43",
   "metadata": {},
   "source": [
    "### Automatic mapping of Operations\n",
    "\n",
    "Next we map the operations table"
   ]
  },
  {
   "cell_type": "code",
   "execution_count": 14,
   "id": "6be50d10",
   "metadata": {},
   "outputs": [
    {
     "name": "stdout",
     "output_type": "stream",
     "text": [
      "{\n",
      "      \"condition_occurrence\": {\n",
      "            \"person_id\": {\n",
      "                  \"source_table\": \"smr01_operations.csv\",\n",
      "                  \"source_field\": \"encrypted_id\"\n",
      "            },\n",
      "            \"condition_start_datetime\": {\n",
      "                  \"source_table\": \"smr01_operations.csv\",\n",
      "                  \"source_field\": \"date_operation\"\n",
      "            },\n",
      "            \"condition_concept_id\": {\n",
      "                  \"source_table\": \"smr01_operations.csv\",\n",
      "                  \"source_field\": \"operation_new\",\n",
      "                  \"term_mapping\": {\n",
      "                        \"A01.1\": 195460,\n",
      "                        \"A01.2\": 193953,\n",
      "                        \"A01.3\": 442291,\n",
      "                        \"A02.1\": 40493039,\n",
      "                        \"A02.2\": 141209,\n",
      "                        \"A02.8\": 133685,\n",
      "                        \"A02.9\": 133685,\n",
      "                        \"A03.1\": 4145763,\n",
      "                        \"A03.2\": 4185509,\n",
      "                        \"A03.3\": 4321384,\n",
      "                        \"A03.8\": 440938,\n",
      "            .....\n"
     ]
    }
   ],
   "source": [
    "tab_2 = cmapper.map(\n",
    "    \"smr01_operations.csv\", \"operation_new\", \"encrypted_id\", \"date_operation\"\n",
    ")\n",
    "print(json.dumps(tab_2, indent=6)[:1000]+\".....\")"
   ]
  },
  {
   "cell_type": "markdown",
   "id": "d9d30ae8",
   "metadata": {},
   "source": [
    "### Output Rules JSON\n",
    "\n",
    "Finally we construct a rules file that is compatitble with the carrot-cdm"
   ]
  },
  {
   "cell_type": "code",
   "execution_count": 15,
   "id": "1cddecb6",
   "metadata": {},
   "outputs": [
    {
     "name": "stdout",
     "output_type": "stream",
     "text": [
      "{\n",
      "      \"cdm\": {\n",
      "            \"person\": {\n",
      "                  \"person_0\": {\n",
      "                        \"person_id\": {\n",
      "                              \"source_table\": \"demographics.csv\",\n",
      "                              \"source_field\": \"encrypted_id\"\n",
      "                        },\n",
      "                        \"birth_datetime\": {\n",
      "                              \"source_table\": \"demographics.csv\",\n",
      "                              \"source_field\": \"dob\"\n",
      "                        },\n",
      "                        \"gender_concept_id\": {\n",
      "                              \"source_table\": \"demographics.csv\",\n",
      "                              \"s.....\n"
     ]
    }
   ],
   "source": [
    "rules = {\n",
    "    **{k: {f\"{k}_{i}\": v} for i, (k, v) in enumerate(demo.items())},\n",
    "    **{k: {f\"{k}_{i}\": v} for i, (k, v) in enumerate(tab_1.items())},\n",
    "    **{k: {f\"{k}_{i}\": v} for i, (k, v) in enumerate(tab_2.items())},\n",
    "}\n",
    "\n",
    "rules = {\"cdm\": rules, \"metadata\": {\"dataset\": \"PHS_SMR01\"}}\n",
    "with open(\"rules_smr01.json\", \"w\") as f:\n",
    "    json.dump(rules, f, indent=6)\n",
    "\n",
    "print(json.dumps(rules, indent=6)[:600]+\".....\")"
   ]
  },
  {
   "cell_type": "markdown",
   "id": "ca5425be",
   "metadata": {},
   "source": [
    "### Alternative Rules\n",
    "\n",
    "Create some alternative rules with a rule per concept (i.e. maximum one concept mapped in each term mapping)"
   ]
  },
  {
   "cell_type": "code",
   "execution_count": 16,
   "id": "a9ccd734",
   "metadata": {},
   "outputs": [
    {
     "name": "stdout",
     "output_type": "stream",
     "text": [
      "{\n",
      "      \"cdm\": {\n",
      "            \"person\": {\n",
      "                  \"female\": {\n",
      "                        \"person_id\": {\n",
      "                              \"source_table\": \"demographics.csv\",\n",
      "                              \"source_field\": \"encrypted_id\"\n",
      "                        },\n",
      "                        \"birth_datetime\": {\n",
      "                              \"source_table\": \"demographics.csv\",\n",
      "                              \"source_field\": \"dob\"\n",
      "                        },\n",
      "                        \"gender_concept_id\": {\n",
      "                              \"source_table\": \"demographics.csv\",\n",
      "                              \"sou.....\n"
     ]
    }
   ],
   "source": [
    "demo_alt_f = cmapper.map(\n",
    "    \"demographics.csv\",\n",
    "    {\"sex\": {\"1\": \"8507\"}},\n",
    "    \"encrypted_id\",\n",
    "    \"dob\",\n",
    ")\n",
    "\n",
    "demo_alt_m = cmapper.map(\n",
    "    \"demographics.csv\",\n",
    "    {\"sex\": {\"2\": \"8532\"}},\n",
    "    \"encrypted_id\",\n",
    "    \"dob\",\n",
    ")\n",
    "\n",
    "tab_1_alt = cmapper.map(\n",
    "    \"smr01_conditions.csv\", \"newcondition\", \"encrypted_id\", \"admission_date\",one_to_one=True\n",
    ")\n",
    "\n",
    "tab_2_alt = cmapper.map(\n",
    "    \"smr01_operations.csv\", \"operation_new\", \"encrypted_id\", \"date_operation\",one_to_one=True\n",
    ")\n",
    "\n",
    "\n",
    "rules_alt = {\n",
    "    **{\"person\": {\n",
    "        \"female\": demo_alt_f['person'],\n",
    "        \"male\": demo_alt_m['person']\n",
    "    }},\n",
    "    **{\n",
    "        k: { \n",
    "            f\"{k}_{i}\": obj\n",
    "            for i,obj in enumerate(v)\n",
    "        }\n",
    "        for k, v in tab_1_alt.items()\n",
    "    },\n",
    "        **{\n",
    "        k: { \n",
    "            f\"{k}_{i}\": obj\n",
    "            for i,obj in enumerate(v)\n",
    "        }\n",
    "        for k, v in tab_2_alt.items()\n",
    "    }\n",
    "}\n",
    "\n",
    "rules_alt = {\"cdm\": rules_alt, \"metadata\": {\"dataset\": \"PHS_SMR01\"}}\n",
    "with open(\"rules_smr01_alternative.json\", \"w\") as f:\n",
    "    json.dump(rules_alt, f, indent=6)\n",
    "\n",
    "print(json.dumps(rules_alt, indent=6)[:600]+\".....\")\n"
   ]
  },
  {
   "cell_type": "markdown",
   "id": "dfa0ea46",
   "metadata": {},
   "source": [
    "## Map NRS Deaths\n",
    "\n",
    "Moving onto mapping the NRS Deaths scan report\n",
    "\n",
    "First we load the new scan report and set it in the pycarrot mapper instance"
   ]
  },
  {
   "cell_type": "code",
   "execution_count": 17,
   "id": "5fe87d8e",
   "metadata": {},
   "outputs": [],
   "source": [
    "df_deaths = pd.read_excel(\"./ScanReports/Deaths_ScanReport.xlsx\", sheet_name=None)\n",
    "cmapper.set_scan_report(df_deaths)"
   ]
  },
  {
   "cell_type": "markdown",
   "id": "c70b63a7",
   "metadata": {},
   "source": [
    "### Build the default rules"
   ]
  },
  {
   "cell_type": "code",
   "execution_count": 18,
   "id": "2441f5bb",
   "metadata": {},
   "outputs": [
    {
     "name": "stdout",
     "output_type": "stream",
     "text": [
      "{\n",
      "      \"cdm\": {\n",
      "            \"person\": {\n",
      "                  \"person_0\": {\n",
      "                        \"person_id\": {\n",
      "                              \"source_table\": \"demographics.csv\",\n",
      "                              \"source_field\": \"encrypted_id\"\n",
      "                        },\n",
      "                        \"birth_datetime\": {\n",
      "                              \"source_table\": \"demographics.csv\",\n",
      "                              \"source_field\": \"dob\"\n",
      "                        },\n",
      "                        \"gender_concept_id\": {\n",
      "                              \"source_table\": \"demographics.csv\",\n",
      "                              \"source_field\": \"sex\",\n",
      "                              \"term_mapping\": {\n",
      "                                    \"1\": 8507,\n",
      "                                    \"2\": 8532\n",
      "                              }\n",
      "                        },\n",
      "                        \"gender_source_value\": {\n",
      "                              \"source_table\": \"demographics.csv\",\n",
      "                              \"source_field\": \"sex\"\n",
      "            .....\n"
     ]
    }
   ],
   "source": [
    "demo = cmapper.map(\n",
    "    \"demographics.csv\",\n",
    "    {\"sex\": {\"1\": \"8507\", \"2\": \"8532\"}},\n",
    "    \"encrypted_id\",\n",
    "    \"dob\",\n",
    ")\n",
    "\n",
    "tab_1 = cmapper.map(\"deaths_a.csv\", \"causedeath\", \"encrypted_id\", \"date_of_death\")\n",
    "tab_2 = cmapper.map(\n",
    "    \"deaths_b.csv\", {\"death\": {\"1\": \"4306655\"}}, \"encrypted_id\", \"date_of_death\"\n",
    ")\n",
    "\n",
    "rules = {\n",
    "    **{k: {f\"{k}_{i}\": v} for i, (k, v) in enumerate(demo.items())},\n",
    "    **{k: {f\"{k}_{i}\": v} for i, (k, v) in enumerate(tab_1.items())},\n",
    "    **{k: {f\"{k}_{i}\": v} for i, (k, v) in enumerate(tab_2.items())},\n",
    "}\n",
    "\n",
    "rules = {\"cdm\": rules, \"metadata\": {\"dataset\": \"PHS_deaths\"}}\n",
    "\n",
    "with open(\"rules_deaths.json\", \"w\") as f:\n",
    "    json.dump(rules, f, indent=6)\n",
    "\n",
    "\n",
    "\n",
    "print(json.dumps(rules, indent=6)[:1000]+\".....\")\n",
    "\n"
   ]
  },
  {
   "cell_type": "markdown",
   "id": "f6e63796",
   "metadata": {},
   "source": [
    "### Alternative rules\n",
    "\n",
    "As above, build rules with one-to-one concept mapping"
   ]
  },
  {
   "cell_type": "code",
   "execution_count": 19,
   "id": "a9886618",
   "metadata": {},
   "outputs": [
    {
     "name": "stdout",
     "output_type": "stream",
     "text": [
      "{\n",
      "      \"cdm\": {\n",
      "            \"person\": {\n",
      "                  \"female\": {\n",
      "                        \"person_id\": {\n",
      "                              \"source_table\": \"demographics.csv\",\n",
      "                              \"source_field\": \"encrypted_id\"\n",
      "                        },\n",
      "                        \"birth_datetime\": {\n",
      "                              \"source_table\": \"demographics.csv\",\n",
      "                              \"source_field\": \"dob\"\n",
      "                        },\n",
      "                        \"gender_concept_id\": {\n",
      "                              \"source_table\": \"demographics.csv\",\n",
      "                              \"source_field\": \"sex\",\n",
      "                              \"term_mapping\": {\n",
      "                                    \"1\": 8507\n",
      "                              }\n",
      "                        },\n",
      "                        \"gender_source_value\": {\n",
      "                              \"source_table\": \"demographics.csv\",\n",
      "                              \"source_field\": \"sex\"\n",
      "                        }\n",
      "                  },\n",
      "              .....\n"
     ]
    }
   ],
   "source": [
    "demo_alt_f = cmapper.map(\n",
    "    \"demographics.csv\",\n",
    "    {\"sex\": {\"1\": \"8507\"}},\n",
    "    \"encrypted_id\",\n",
    "    \"dob\",\n",
    ")\n",
    "\n",
    "demo_alt_m = cmapper.map(\n",
    "    \"demographics.csv\",\n",
    "    {\"sex\": {\"2\": \"8532\"}},\n",
    "    \"encrypted_id\",\n",
    "    \"dob\",\n",
    ")\n",
    "\n",
    "tab_1_alt = cmapper.map(\"deaths_a.csv\", \"causedeath\", \"encrypted_id\", \"date_of_death\",one_to_one=True)\n",
    "tab_2_alt = cmapper.map(\n",
    "    \"deaths_b.csv\", {\"death\": {\"1\": \"4306655\"}}, \"encrypted_id\", \"date_of_death\",one_to_one=True\n",
    ")\n",
    "\n",
    "\n",
    "rules_alt = {\n",
    "    **{\"person\": {\n",
    "        \"female\": demo_alt_f['person'],\n",
    "        \"male\": demo_alt_m['person']\n",
    "    }},\n",
    "    **{\n",
    "        k: { \n",
    "            f\"{k}_{i}\": obj\n",
    "            for i,obj in enumerate(v)\n",
    "        }\n",
    "        for k, v in tab_1_alt.items()\n",
    "    },\n",
    "        **{\n",
    "        k: { \n",
    "            f\"{k}_{i}\": obj\n",
    "            for i,obj in enumerate(v)\n",
    "        }\n",
    "        for k, v in tab_2_alt.items()\n",
    "    }\n",
    "}\n",
    "\n",
    "rules_alt = {\"cdm\": rules_alt, \"metadata\": {\"dataset\": \"PHS_deaths\"}}\n",
    "with open(\"rules_deaths_alternative.json\", \"w\") as f:\n",
    "    json.dump(rules_alt, f, indent=6)\n",
    "\n",
    "print(json.dumps(rules_alt, indent=6)[:1000]+\".....\")\n"
   ]
  }
 ],
 "metadata": {
  "kernelspec": {
   "display_name": "Python 3 (ipykernel)",
   "language": "python",
   "name": "python3"
  },
  "language_info": {
   "codemirror_mode": {
    "name": "ipython",
    "version": 3
   },
   "file_extension": ".py",
   "mimetype": "text/x-python",
   "name": "python",
   "nbconvert_exporter": "python",
   "pygments_lexer": "ipython3",
   "version": "3.9.18"
  }
 },
 "nbformat": 4,
 "nbformat_minor": 5
}
