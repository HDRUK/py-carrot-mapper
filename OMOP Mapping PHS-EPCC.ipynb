{
 "cells": [
  {
   "cell_type": "markdown",
   "id": "aee2b60a",
   "metadata": {},
   "source": [
    "Create an engine from sqlalchemy for the OMOP database"
   ]
  },
  {
   "cell_type": "code",
   "execution_count": 36,
   "id": "aef1fdc7",
   "metadata": {},
   "outputs": [
    {
     "name": "stdout",
     "output_type": "stream",
     "text": [
      "The autoreload extension is already loaded. To reload it, use:\n",
      "  %reload_ext autoreload\n"
     ]
    }
   ],
   "source": [
    "%load_ext autoreload\n",
    "%autoreload 2"
   ]
  },
  {
   "cell_type": "code",
   "execution_count": 37,
   "id": "8144e1ac",
   "metadata": {},
   "outputs": [],
   "source": [
    "from sqlalchemy import create_engine\n",
    "username=\"admin\"\n",
    "password=\"test!\"\n",
    "hostname=\"localhost\"\n",
    "port=\"5432\"\n",
    "database_name=\"omop\"\n",
    "\n",
    "connection_string = f\"postgresql+psycopg2://{username}:{password}@{hostname}:{port}/{database_name}\"\n",
    "engine = create_engine(connection_string)\n"
   ]
  },
  {
   "cell_type": "markdown",
   "id": "512c4ac3",
   "metadata": {},
   "source": [
    "Creater a concept finder and a concept mapper"
   ]
  },
  {
   "cell_type": "code",
   "execution_count": 38,
   "id": "b13799dd",
   "metadata": {},
   "outputs": [
    {
     "data": {
      "text/plain": [
       "<pycarrot.concept_mapper.ConceptMapper at 0x11e02e520>"
      ]
     },
     "execution_count": 38,
     "metadata": {},
     "output_type": "execute_result"
    }
   ],
   "source": [
    "import json\n",
    "import pandas as pd\n",
    "from pycarrot import ConceptMapper, ConceptFinder\n",
    "\n",
    "cfinder = ConceptFinder(engine)\n",
    "cmapper = ConceptMapper(cfinder) \n",
    "cmapper"
   ]
  },
  {
   "cell_type": "markdown",
   "id": "ff8082bb",
   "metadata": {},
   "source": [
    "Load the scan report"
   ]
  },
  {
   "cell_type": "code",
   "execution_count": 39,
   "id": "069b1d43",
   "metadata": {},
   "outputs": [],
   "source": [
    "df_smr01 = pd.read_excel(\"./ScanReports/SMR01_ScanReport.xlsx\", sheet_name=None)"
   ]
  },
  {
   "cell_type": "code",
   "execution_count": 40,
   "id": "e06d95e5",
   "metadata": {},
   "outputs": [],
   "source": [
    "cmapper.set_scan_report(df_smr01)"
   ]
  },
  {
   "cell_type": "markdown",
   "id": "cd785060",
   "metadata": {},
   "source": [
    "Manually map the demographics table"
   ]
  },
  {
   "cell_type": "code",
   "execution_count": 41,
   "id": "b08370ac",
   "metadata": {},
   "outputs": [
    {
     "name": "stdout",
     "output_type": "stream",
     "text": [
      "{\n",
      "      \"person\": {\n",
      "            \"person_id\": {\n",
      "                  \"source_table\": \"demographics.csv\",\n",
      "                  \"source_field\": \"encrypted_id\"\n",
      "            },\n",
      "            \"birth_datetime\": {\n",
      "                  \"source_table\": \"demographics.csv\",\n",
      "                  \"source_field\": \"dob\"\n",
      "            },\n",
      "            \"gender_concept_id\": {\n",
      "                  \"source_table\": \"demographics.csv\",\n",
      "                  \"source_field\": \"sex\",\n",
      "                  \"term_mapping\": {\n",
      "                        \"1\": 8507,\n",
      "                        \"2\": 8532\n",
      "                  }\n",
      "            },\n",
      "            \"gender_source_value\": {\n",
      "                  \"source_table\": \"demographics.csv\",\n",
      "                  \"source_field\": \"sex\"\n",
      "            }\n",
      "      }\n",
      "}\n"
     ]
    }
   ],
   "source": [
    "demo = cmapper.map(\n",
    "    \"demographics.csv\",\n",
    "    {\"sex\": {\"1\": \"8507\", \"2\": \"8532\"}},\n",
    "    \"encrypted_id\",\n",
    "    \"dob\",\n",
    ")\n",
    "print(json.dumps(demo, indent=6))"
   ]
  },
  {
   "cell_type": "markdown",
   "id": "aacd7db2",
   "metadata": {},
   "source": [
    "Automatically map the conditions table"
   ]
  },
  {
   "cell_type": "code",
   "execution_count": 42,
   "id": "5b5735e6",
   "metadata": {},
   "outputs": [
    {
     "name": "stdout",
     "output_type": "stream",
     "text": [
      "{\n",
      "      \"condition_occurrence\": {\n",
      "            \"person_id\": {\n",
      "                  \"source_table\": \"smr01_conditions.csv\",\n",
      "                  \"source_field\": \"encrypted_id\"\n",
      "            },\n",
      "            \"condition_start_datetime\": {\n",
      "                  \"source_table\": \"smr01_conditions.csv\",\n",
      "                  \"source_field\": \"admission_date\"\n",
      "            },\n",
      "            \"condition_concept_id\": {\n",
      "                  \"source_table\": \"smr01_conditions.csv\",\n",
      "                  \"source_field\": \"newcondition\",\n",
      "                  \"term_mapping\": {\n",
      "                        \"A00.0\": 4344638,\n",
      "                        \"A00.9\": 198677,\n",
      "                        \"A01.0\": 192819,\n",
      "                        \"A01.1\": 195460,\n",
      "                        \"A01.2\": 193953,\n",
      "                        \"A01.3\": 442291,\n",
      "                        \"A01.4\": 195177,\n",
      "                        \"A02.0\": 196328,\n",
      "                        \"A02.1\": 40493039,\n",
      "                        \"A02.2\": 141209,\n",
      "                        \"A02.8\": 133685,\n",
      "               .....\n"
     ]
    }
   ],
   "source": [
    "tab_1 = cmapper.map(\n",
    "    \"smr01_conditions.csv\", \"newcondition\", \"encrypted_id\", \"admission_date\"\n",
    ")\n",
    "print(json.dumps(tab_1, indent=6)[:1000]+\".....\")"
   ]
  },
  {
   "cell_type": "markdown",
   "id": "21e3bd43",
   "metadata": {},
   "source": [
    "Automatically map the conditions table"
   ]
  },
  {
   "cell_type": "code",
   "execution_count": 43,
   "id": "6be50d10",
   "metadata": {},
   "outputs": [
    {
     "name": "stdout",
     "output_type": "stream",
     "text": [
      "{\n",
      "      \"condition_occurrence\": {\n",
      "            \"person_id\": {\n",
      "                  \"source_table\": \"smr01_operations.csv\",\n",
      "                  \"source_field\": \"encrypted_id\"\n",
      "            },\n",
      "            \"condition_start_datetime\": {\n",
      "                  \"source_table\": \"smr01_operations.csv\",\n",
      "                  \"source_field\": \"date_operation\"\n",
      "            },\n",
      "            \"condition_concept_id\": {\n",
      "                  \"source_table\": \"smr01_operations.csv\",\n",
      "                  \"source_field\": \"operation_new\",\n",
      "                  \"term_mapping\": {\n",
      "                        \"A01.1\": 195460,\n",
      "                        \"A01.2\": 193953,\n",
      "                        \"A01.3\": 442291,\n",
      "                        \"A02.1\": 40493039,\n",
      "                        \"A02.2\": 141209,\n",
      "                        \"A02.8\": 133685,\n",
      "                        \"A02.9\": 133685,\n",
      "                        \"A03.1\": 4145763,\n",
      "                        \"A03.2\": 4185509,\n",
      "                        \"A03.3\": 4321384,\n",
      "                        \"A03.8\": 440938,\n",
      "            .....\n"
     ]
    }
   ],
   "source": [
    "tab_2 = cmapper.map(\n",
    "    \"smr01_operations.csv\", \"operation_new\", \"encrypted_id\", \"date_operation\"\n",
    ")\n",
    "print(json.dumps(tab_2, indent=6)[:1000]+\".....\")"
   ]
  },
  {
   "cell_type": "markdown",
   "id": "d9d30ae8",
   "metadata": {},
   "source": [
    "Build the rules"
   ]
  },
  {
   "cell_type": "code",
   "execution_count": 44,
   "id": "1cddecb6",
   "metadata": {},
   "outputs": [
    {
     "name": "stdout",
     "output_type": "stream",
     "text": [
      "{\n",
      "      \"cdm\": {\n",
      "            \"person\": {\n",
      "                  \"person_0\": {\n",
      "                        \"person_id\": {\n",
      "                              \"source_table\": \"demographics.csv\",\n",
      "                              \"source_field\": \"encrypted_id\"\n",
      "                        },\n",
      "                        \"birth_datetime\": {\n",
      "                              \"source_table\": \"demographics.csv\",\n",
      "                              \"source_field\": \"dob\"\n",
      "                        },\n",
      "                        \"gender_concept_id\": {\n",
      "                              \"source_table\": \"demographics.csv\",\n",
      "                              \"s.....\n"
     ]
    }
   ],
   "source": [
    "rules = {\n",
    "    **{k: {f\"{k}_{i}\": v} for i, (k, v) in enumerate(demo.items())},\n",
    "    **{k: {f\"{k}_{i}\": v} for i, (k, v) in enumerate(tab_1.items())},\n",
    "    **{k: {f\"{k}_{i}\": v} for i, (k, v) in enumerate(tab_2.items())},\n",
    "}\n",
    "\n",
    "rules = {\"cdm\": rules, \"metadata\": {\"dataset\": \"PHS_SMR01\"}}\n",
    "with open(\"rules_smr01.json\", \"w\") as f:\n",
    "    json.dump(rules, f, indent=6)\n",
    "\n",
    "print(json.dumps(rules, indent=6)[:600]+\".....\")"
   ]
  },
  {
   "cell_type": "code",
   "execution_count": 45,
   "id": "a9ccd734",
   "metadata": {},
   "outputs": [
    {
     "name": "stdout",
     "output_type": "stream",
     "text": [
      "{\n",
      "      \"person\": {\n",
      "            \"person_id\": {\n",
      "                  \"source_table\": \"demographics.csv\",\n",
      "                  \"source_field\": \"encrypted_id\"\n",
      "            },\n",
      "            \"birth_datetime\": {\n",
      "                  \"source_table\": \"demographics.csv\",\n",
      "                  \"source_field\": \"dob\"\n",
      "            },\n",
      "            \"gender_concept_id\": {\n",
      "                  \"source_table\": \"demographics.csv\",\n",
      "                  \"source_field\": \"sex\",\n",
      "                  \"term_mapping\": {\n",
      "                        \"1\": 8507\n",
      "                  }\n",
      "            },\n",
      "            \"gender_source_value\": {\n",
      "                  \"source_table\": \"demographics.csv\",\n",
      "                  \"source_field\": \"sex\"\n",
      "            }\n",
      "      }\n",
      "}\n"
     ]
    }
   ],
   "source": [
    "demo_alt_f = cmapper.map(\n",
    "    \"demographics.csv\",\n",
    "    {\"sex\": {\"1\": \"8507\"}},\n",
    "    \"encrypted_id\",\n",
    "    \"dob\",\n",
    ")\n",
    "print(json.dumps(demo_alt_f, indent=6))"
   ]
  },
  {
   "cell_type": "code",
   "execution_count": 46,
   "id": "a5c65d51",
   "metadata": {},
   "outputs": [
    {
     "name": "stdout",
     "output_type": "stream",
     "text": [
      "{\n",
      "      \"person\": {\n",
      "            \"person_id\": {\n",
      "                  \"source_table\": \"demographics.csv\",\n",
      "                  \"source_field\": \"encrypted_id\"\n",
      "            },\n",
      "            \"birth_datetime\": {\n",
      "                  \"source_table\": \"demographics.csv\",\n",
      "                  \"source_field\": \"dob\"\n",
      "            },\n",
      "            \"gender_concept_id\": {\n",
      "                  \"source_table\": \"demographics.csv\",\n",
      "                  \"source_field\": \"sex\",\n",
      "                  \"term_mapping\": {\n",
      "                        \"2\": 8532\n",
      "                  }\n",
      "            },\n",
      "            \"gender_source_value\": {\n",
      "                  \"source_table\": \"demographics.csv\",\n",
      "                  \"source_field\": \"sex\"\n",
      "            }\n",
      "      }\n",
      "}\n"
     ]
    }
   ],
   "source": [
    "demo_alt_m = cmapper.map(\n",
    "    \"demographics.csv\",\n",
    "    {\"sex\": {\"2\": \"8532\"}},\n",
    "    \"encrypted_id\",\n",
    "    \"dob\",\n",
    ")\n",
    "print(json.dumps(demo_alt_m, indent=6))"
   ]
  },
  {
   "cell_type": "code",
   "execution_count": 47,
   "id": "1b336f36",
   "metadata": {},
   "outputs": [],
   "source": [
    "tab_1_alt = cmapper.map(\n",
    "    \"smr01_conditions.csv\", \"newcondition\", \"encrypted_id\", \"admission_date\",one_to_one=True\n",
    ")\n",
    "\n",
    "tab_2_alt = cmapper.map(\n",
    "    \"smr01_operations.csv\", \"operation_new\", \"encrypted_id\", \"date_operation\",one_to_one=True\n",
    ")\n"
   ]
  },
  {
   "cell_type": "code",
   "execution_count": 48,
   "id": "e39f356b",
   "metadata": {},
   "outputs": [
    {
     "name": "stdout",
     "output_type": "stream",
     "text": [
      "{\n",
      "      \"cdm\": {\n",
      "            \"person\": {\n",
      "                  \"female\": {\n",
      "                        \"person_id\": {\n",
      "                              \"source_table\": \"demographics.csv\",\n",
      "                              \"source_field\": \"encrypted_id\"\n",
      "                        },\n",
      "                        \"birth_datetime\": {\n",
      "                              \"source_table\": \"demographics.csv\",\n",
      "                              \"source_field\": \"dob\"\n",
      "                        },\n",
      "                        \"gender_concept_id\": {\n",
      "                              \"source_table\": \"demographics.csv\",\n",
      "                              \"sou.....\n"
     ]
    }
   ],
   "source": [
    "rules_alt = {\n",
    "    **{\"person\": {\n",
    "        \"female\": demo_alt_f['person'],\n",
    "        \"male\": demo_alt_m['person']\n",
    "    }},\n",
    "    **{\n",
    "        k: { \n",
    "            f\"{k}_{i}\": obj\n",
    "            for i,obj in enumerate(v)\n",
    "        }\n",
    "        for k, v in tab_1_alt.items()\n",
    "    },\n",
    "        **{\n",
    "        k: { \n",
    "            f\"{k}_{i}\": obj\n",
    "            for i,obj in enumerate(v)\n",
    "        }\n",
    "        for k, v in tab_2_alt.items()\n",
    "    }\n",
    "}\n",
    "\n",
    "rules_alt = {\"cdm\": rules_alt, \"metadata\": {\"dataset\": \"PHS_SMR01\"}}\n",
    "with open(\"rules_smr01_alternative.json\", \"w\") as f:\n",
    "    json.dump(rules_alt, f, indent=6)\n",
    "\n",
    "print(json.dumps(rules_alt, indent=6)[:600]+\".....\")\n"
   ]
  },
  {
   "cell_type": "code",
   "execution_count": null,
   "id": "76b89d00",
   "metadata": {},
   "outputs": [],
   "source": []
  },
  {
   "cell_type": "code",
   "execution_count": null,
   "id": "a25ae9cf",
   "metadata": {},
   "outputs": [],
   "source": []
  },
  {
   "cell_type": "code",
   "execution_count": null,
   "id": "35f4db35",
   "metadata": {},
   "outputs": [],
   "source": []
  },
  {
   "cell_type": "code",
   "execution_count": null,
   "id": "54c89dfc",
   "metadata": {},
   "outputs": [],
   "source": []
  },
  {
   "cell_type": "code",
   "execution_count": null,
   "id": "5fe87d8e",
   "metadata": {},
   "outputs": [],
   "source": [
    "df_deaths = pd.read_excel(\"./ScanReports/Deaths_ScanReport.xlsx\", sheet_name=None)\n",
    "cmapper.set_scan_report(df_deaths)"
   ]
  },
  {
   "cell_type": "code",
   "execution_count": null,
   "id": "2441f5bb",
   "metadata": {},
   "outputs": [],
   "source": [
    "demo = cmapper.map(\n",
    "    \"demographics.csv\",\n",
    "    {\"sex\": {\"1\": \"8507\", \"2\": \"8532\"}},\n",
    "    \"encrypted_id\",\n",
    "    \"dob\",\n",
    ")\n",
    "print(json.dumps(demo,indent=6))"
   ]
  },
  {
   "cell_type": "code",
   "execution_count": null,
   "id": "a9886618",
   "metadata": {},
   "outputs": [],
   "source": [
    "tab_1 = cmapper.map(\"deaths_a.csv\", \"causedeath\", \"encrypted_id\", \"date_of_death\")\n",
    "tab_2 = cmapper.map(\n",
    "    \"deaths_b.csv\", {\"death\": {\"1\": \"4306655\"}}, \"encrypted_id\", \"date_of_death\"\n",
    ")\n",
    "\n",
    "rules = {\n",
    "    **{k: {f\"{k}_{i}\": v} for i, (k, v) in enumerate(demo.items())},\n",
    "    **{k: {f\"{k}_{i}\": v} for i, (k, v) in enumerate(tab_1.items())},\n",
    "    **{k: {f\"{k}_{i}\": v} for i, (k, v) in enumerate(tab_2.items())},\n",
    "}\n",
    "\n",
    "rules = {\"cdm\": rules, \"metadata\": {\"dataset\": \"PHS_deaths\"}}\n",
    "\n",
    "with open(\"rules_deaths.json\", \"w\") as f:\n",
    "    json.dump(rules, f, indent=6)\n",
    "\n",
    "\n",
    "\n",
    "print(json.dumps(rules, indent=6)[:600]+\".....\")"
   ]
  }
 ],
 "metadata": {
  "kernelspec": {
   "display_name": "Python 3 (ipykernel)",
   "language": "python",
   "name": "python3"
  },
  "language_info": {
   "codemirror_mode": {
    "name": "ipython",
    "version": 3
   },
   "file_extension": ".py",
   "mimetype": "text/x-python",
   "name": "python",
   "nbconvert_exporter": "python",
   "pygments_lexer": "ipython3",
   "version": "3.9.18"
  }
 },
 "nbformat": 4,
 "nbformat_minor": 5
}
