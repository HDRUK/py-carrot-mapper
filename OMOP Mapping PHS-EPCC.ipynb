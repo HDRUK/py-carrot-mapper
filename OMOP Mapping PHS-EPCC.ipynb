{
 "cells": [
  {
   "cell_type": "code",
   "execution_count": 1,
   "id": "48f666be",
   "metadata": {},
   "outputs": [
    {
     "data": {
      "text/plain": [
       "<pycarrot.concept_mapper.ConceptMapper at 0x1108c4fa0>"
      ]
     },
     "execution_count": 1,
     "metadata": {},
     "output_type": "execute_result"
    }
   ],
   "source": [
    "import json\n",
    "import pandas as pd\n",
    "from pycarrot import ConceptMapper\n",
    "\n",
    "cmapper = ConceptMapper(\n",
    "    username=\"admin\",\n",
    "    password=\"test!\",\n",
    "    hostname=\"localhost\",\n",
    "    port=\"5432\",\n",
    "    database_name=\"omop\",\n",
    ")\n",
    "cmapper"
   ]
  },
  {
   "cell_type": "code",
   "execution_count": 2,
   "id": "db185701",
   "metadata": {},
   "outputs": [],
   "source": [
    "df_smr01 = pd.read_excel(\"./ScanReports/SMR01_ScanReport.xlsx\", sheet_name=None)"
   ]
  },
  {
   "cell_type": "code",
   "execution_count": 3,
   "id": "75199571",
   "metadata": {},
   "outputs": [],
   "source": [
    "cmapper.set_scan_report(df_smr01)"
   ]
  },
  {
   "cell_type": "code",
   "execution_count": 4,
   "id": "efcf046f",
   "metadata": {},
   "outputs": [
    {
     "name": "stdout",
     "output_type": "stream",
     "text": [
      "{\n",
      "      \"person\": {\n",
      "            \"gender_concept_id\": {\n",
      "                  \"source_table\": \"demographics.csv\",\n",
      "                  \"source_field\": \"sex\",\n",
      "                  \"term_mapping\": {\n",
      "                        \"1\": 8507,\n",
      "                        \"2\": 8532\n",
      "                  }\n",
      "            },\n",
      "            \"gender_source_value\": {\n",
      "                  \"source_table\": \"demographics.csv\",\n",
      "                  \"source_field\": \"sex\"\n",
      "            },\n",
      "            \"birth_datetime\": {\n",
      "                  \"source_table\": \"demographics.csv\",\n",
      "                  \"source_field\": \"dob\"\n",
      "            },\n",
      "            \"person_id\": {\n",
      "                  \"source_table\": \"demographics.csv\",\n",
      "                  \"source_field\": \"encrypted_id\"\n",
      "            }\n",
      "      }\n",
      "}\n"
     ]
    }
   ],
   "source": [
    "demo = cmapper.map(\n",
    "    \"demographics.csv\",\n",
    "    {\"sex\": {\"1\": \"8507\", \"2\": \"8532\"}},\n",
    "    \"encrypted_id\",\n",
    "    \"dob\",\n",
    ")\n",
    "print(json.dumps(demo, indent=6))"
   ]
  },
  {
   "cell_type": "code",
   "execution_count": 8,
   "id": "4710d898",
   "metadata": {},
   "outputs": [
    {
     "name": "stdout",
     "output_type": "stream",
     "text": [
      "{\n",
      "      \"condition_occurrence\": {\n",
      "            \"condition_concept_id\": {\n",
      "                  \"source_table\": \"smr01_conditions.csv\",\n",
      "                  \"source_field\": \"newcondition\",\n",
      "                  \"term_mapping\": {\n",
      "                        \"A00.0\": 4344638,\n",
      "                        \"A00.9\": 198677,\n",
      "                        \"A01.0\": 192819,\n",
      "                        \"A01.1\": 195460,\n",
      "                        \"A01.2\": 193953,\n",
      "                        \"A01.3\": 442291,\n",
      "                        \"A01.4\": 1951\n"
     ]
    }
   ],
   "source": [
    "tab_1 = cmapper.map(\n",
    "    \"smr01_conditions.csv\", \"newcondition\", \"encrypted_id\", \"admission_date\"\n",
    ")\n",
    "print(json.dumps(tab_1, indent=6)[:500])"
   ]
  },
  {
   "cell_type": "code",
   "execution_count": 6,
   "id": "00d71717",
   "metadata": {},
   "outputs": [
    {
     "name": "stdout",
     "output_type": "stream",
     "text": [
      "{\n",
      "      \"condition_occurrence\": {\n",
      "            \"condition_concept_id\": {\n",
      "                  \"source_table\": \"smr01_operations.csv\",\n",
      "                  \"source_field\": \"operation_new\",\n",
      "                  \"\n"
     ]
    }
   ],
   "source": [
    "tab_2 = cmapper.map(\n",
    "    \"smr01_operations.csv\", \"operation_new\", \"encrypted_id\", \"date_operation\"\n",
    ")\n",
    "print(json.dumps(tab_2, indent=6)[:200])"
   ]
  },
  {
   "cell_type": "code",
   "execution_count": 7,
   "id": "90e7a68c",
   "metadata": {},
   "outputs": [
    {
     "name": "stdout",
     "output_type": "stream",
     "text": [
      "{\n",
      "      \"cdm\": {\n",
      "            \"person\": {\n",
      "                  \"person_0\": {\n",
      "                        \"gender_concept_id\": {\n",
      "                              \"source_table\": \"demographics.csv\",\n",
      "              \n"
     ]
    }
   ],
   "source": [
    "rules = {\n",
    "    **{k: {f\"{k}_{i}\": v} for i, (k, v) in enumerate(demo.items())},\n",
    "    **{k: {f\"{k}_{i}\": v} for i, (k, v) in enumerate(tab_1.items())},\n",
    "    **{k: {f\"{k}_{i}\": v} for i, (k, v) in enumerate(tab_2.items())},\n",
    "}\n",
    "\n",
    "rules = {\"cdm\": rules, \"metadata\": {\"dataset\": \"PHS_SMR01\"}}\n",
    "with open(\"rules_smr01.json\", \"w\") as f:\n",
    "    json.dump(rules, f, indent=6)\n",
    "\n",
    "print(json.dumps(rules, indent=6)[:200])"
   ]
  },
  {
   "cell_type": "code",
   "execution_count": null,
   "id": "8a18bc4b",
   "metadata": {},
   "outputs": [],
   "source": [
    "df_deaths = pd.read_excel(\"./ScanReports/Deaths_ScanReport.xlsx\", sheet_name=None)\n",
    "cmapper.set_scan_report(df_deaths)"
   ]
  },
  {
   "cell_type": "code",
   "execution_count": null,
   "id": "127410b3",
   "metadata": {},
   "outputs": [],
   "source": [
    "demo = cmapper.map(\n",
    "    \"demographics.csv\",\n",
    "    {\"sex\": {\"1\": \"8507\", \"2\": \"8532\"}},\n",
    "    \"encrypted_id\",\n",
    "    \"dob\",\n",
    ")\n",
    "demo"
   ]
  },
  {
   "cell_type": "code",
   "execution_count": null,
   "id": "bd96e90c",
   "metadata": {},
   "outputs": [],
   "source": [
    "tab_1 = cmapper.map(\"deaths_a.csv\", \"causedeath\", \"encrypted_id\", \"date_of_death\")\n",
    "tab_2 = cmapper.map(\n",
    "    \"deaths_b.csv\", {\"death\": {\"1\": \"4306655\"}}, \"encrypted_id\", \"date_of_death\"\n",
    ")\n",
    "\n",
    "rules = {\n",
    "    **{k: {f\"{k}_{i}\": v} for i, (k, v) in enumerate(demo.items())},\n",
    "    **{k: {f\"{k}_{i}\": v} for i, (k, v) in enumerate(tab_1.items())},\n",
    "    **{k: {f\"{k}_{i}\": v} for i, (k, v) in enumerate(tab_2.items())},\n",
    "}\n",
    "\n",
    "rules = {\"cdm\": rules, \"metadata\": {\"dataset\": \"PHS_deaths\"}}\n",
    "\n",
    "with open(\"rules_deaths.json\", \"w\") as f:\n",
    "    json.dump(rules, f, indent=6)\n",
    "\n",
    "\n",
    "\n",
    "print(json.dumps(rules, indent=6))\n",
    "\n"
   ]
  }
 ],
 "metadata": {
  "kernelspec": {
   "display_name": "Python 3 (ipykernel)",
   "language": "python",
   "name": "python3"
  },
  "language_info": {
   "codemirror_mode": {
    "name": "ipython",
    "version": 3
   },
   "file_extension": ".py",
   "mimetype": "text/x-python",
   "name": "python",
   "nbconvert_exporter": "python",
   "pygments_lexer": "ipython3",
   "version": "3.9.18"
  }
 },
 "nbformat": 4,
 "nbformat_minor": 5
}
